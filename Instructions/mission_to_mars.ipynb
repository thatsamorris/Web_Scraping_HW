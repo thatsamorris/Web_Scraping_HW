{
 "cells": [
  {
   "cell_type": "code",
   "execution_count": 9,
   "metadata": {},
   "outputs": [],
   "source": [
    "from bs4 import BeautifulSoup as bs\n",
    "import pandas as pd\n",
    "import requests\n",
    "from splinter import Browser\n",
    "import time"
   ]
  },
  {
   "cell_type": "code",
   "execution_count": 10,
   "metadata": {},
   "outputs": [],
   "source": [
    "executable_path = {\"executable_path\": \"chromedriver.exe\"}\n",
    "browser = Browser(\"chrome\", **executable_path, headless=False)"
   ]
  },
  {
   "cell_type": "code",
   "execution_count": 11,
   "metadata": {},
   "outputs": [],
   "source": [
    "url = \"https://mars.nasa.gov/news/\"\n",
    "browser.visit(url)"
   ]
  },
  {
   "cell_type": "code",
   "execution_count": 12,
   "metadata": {},
   "outputs": [],
   "source": [
    "html = browser.html\n",
    "soup = bs(html,\"html.parser\")"
   ]
  },
  {
   "cell_type": "code",
   "execution_count": 13,
   "metadata": {},
   "outputs": [
    {
     "name": "stdout",
     "output_type": "stream",
     "text": [
      "Curiosity Rover to Temporarily Switch 'Brains'\n",
      "NASA engineers are switching over to Curiosity's spare computer to diagnose a technical issue.\n"
     ]
    }
   ],
   "source": [
    "\n",
    "results = soup.find_all('div', class_=\"image_and_description_container\")\n",
    "elements = soup.find_all('div', class_=['rollover_description_inner', 'content_title'])\n",
    "news_p= []\n",
    "news_title = []\n",
    "i = 0\n",
    "for element in elements:\n",
    "    try:\n",
    "        if i % 2 == 0:\n",
    "            news_p.append(element.get_text())\n",
    "        else:\n",
    "\n",
    "            news_title.append(element.find('a').text)\n",
    "\n",
    "    except AttributeError as e:\n",
    "        print(e)\n",
    "    i += 1\n",
    "print(news_title[0])\n",
    "print(news_p[0])\n",
    "latest_article_headline = news_title[0]\n",
    "latest_article = news_p[0]\n"
   ]
  },
  {
   "cell_type": "code",
   "execution_count": 8,
   "metadata": {},
   "outputs": [
    {
     "name": "stdout",
     "output_type": "stream",
     "text": [
      "https://www.jpl.nasa.gov/spaceimages/images/mediumsize/PIA18289_ip.jpg\n"
     ]
    }
   ],
   "source": [
    "jpl_url = 'https://www.jpl.nasa.gov/spaceimages/?search=&category=Mars'\n",
    "browser.visit(jpl_url)\n",
    "\n",
    "browser.click_link_by_partial_text('FULL IMAGE')\n",
    "\n",
    "browser.find_by_css('a.fancybox-expand').click()\n",
    "\n",
    "\n",
    "jpl_html = browser.html\n",
    "jpl_soup = bs(jpl_html, 'html.parser')\n",
    "\n",
    "img_relative = jpl_soup.find('img', class_='fancybox-image')['src']\n",
    "image_path = f'https://www.jpl.nasa.gov{img_relative}'\n",
    "print(image_path)"
   ]
  },
  {
   "cell_type": "code",
   "execution_count": 7,
   "metadata": {},
   "outputs": [
    {
     "name": "stdout",
     "output_type": "stream",
     "text": [
      "Astronomical autumn begins with the September equinox at 9:54 ET tonight https://www.wral.com/autumn-s-arrival-celebrated-differently-at-different-times-around-the-world/17864537/ …pic.twitter.com/cUArBS7WFV\n"
     ]
    }
   ],
   "source": [
    "twitter_url = 'https://twitter.com/marswxreport?lang=en'\n",
    "browser.visit(twitter_url)\n",
    "weather_html = browser.html\n",
    "weather_soup = bs(weather_html, 'html.parser')\n",
    "\n",
    "tweets = weather_soup.find('ol', class_='stream-items')\n",
    "mars_weather = tweets.find('p', class_=\"tweet-text\").text\n",
    "print(mars_weather)"
   ]
  },
  {
   "cell_type": "code",
   "execution_count": null,
   "metadata": {},
   "outputs": [],
   "source": [
    "facts_url = 'http://space-facts.com/mars/'\n",
    "browser.visit(facts_url)\n",
    "facts_html = browser.html\n",
    "facts_soup = bs(facts_html, 'html.parser')\n",
    "facts = facts_soup.find('table', class_='tablepress-id-mars')\n",
    "fact_names = facts.find_all('td', class_=\"column-1\")\n",
    "fact_value = facts.find_all('td', class_=\"column-2\")\n",
    "\n"
   ]
  },
  {
   "cell_type": "code",
   "execution_count": null,
   "metadata": {},
   "outputs": [],
   "source": [
    "info = [] \n",
    "values = []\n",
    "for fact in fact_names:\n",
    "    info.append(fact.text)\n",
    "for value in fact_value:\n",
    "    values.append(value.text)"
   ]
  },
  {
   "cell_type": "code",
   "execution_count": null,
   "metadata": {},
   "outputs": [],
   "source": [
    "mars_table = pd.DataFrame({'info': info, 'value': values})\n"
   ]
  },
  {
   "cell_type": "code",
   "execution_count": null,
   "metadata": {},
   "outputs": [],
   "source": [
    "hemisphere_url = 'https://astrogeology.usgs.gov/search/results?q=hemisphere+enhanced&k1=target&v1=Mars'\n",
    "browser.visit(hemisphere_url)\n",
    "hemisphere_html = browser.html\n",
    "hemisphere_soup = bs(hemisphere_html, 'html.parser')\n",
    "links = hemisphere_soup.find_all('a', class_='product-item')\n",
    "\n",
    "hemi_names = []\n",
    "for link in links:\n",
    "    if link.text:\n",
    "         hemi_names.append(link.text)"
   ]
  },
  {
   "cell_type": "code",
   "execution_count": null,
   "metadata": {},
   "outputs": [],
   "source": [
    "browser.visit(hemisphere_url)\n",
    "hemisphere_html = browser.html\n",
    "hemisphere_soup = bs(hemisphere_html, 'html.parser')\n",
    "image_links = browser.find_by_css('a.product-item')\n",
    "\n",
    "hemi_img = []\n",
    "for i in range(len(image_links)):\n",
    "    if i % 2 != 0:\n",
    "        browser.visit(hemisphere_url)\n",
    "        hemisphere_html = browser.html\n",
    "        hemisphere_soup = bs(hemisphere_html, 'html.parser')\n",
    "        image_links = browser.find_by_css('a.product-item')\n",
    "        image_links[i].click()\n",
    "        browser.find_link_by_text('Sample').first.click()\n",
    "        browser.windows.current = browser.windows[-1]\n",
    "        hemi_img_html = browser.html\n",
    "        browser.windows.current = browser.windows[0]\n",
    "        browser.windows[-1].close()\n",
    "        hemi_img_soup = bs(hemi_img_html, 'html.parser')\n",
    "        hemi_img_path = hemi_img_soup.find('img')['src']\n",
    "        hemi_img.append(hemi_img_path)\n",
    "    else:\n",
    "        continue"
   ]
  },
  {
   "cell_type": "code",
   "execution_count": null,
   "metadata": {},
   "outputs": [],
   "source": [
    "hemisphere_dicts = []\n",
    "for i in range(4):\n",
    "    hemisphere_dict = {}\n",
    "    hemisphere_dict['title'] = hemi_names[i]\n",
    "    hemisphere_dict['url'] = hemi_img[i]\n",
    "    hemisphere_dicts.append(hemisphere_dict)"
   ]
  },
  {
   "cell_type": "code",
   "execution_count": null,
   "metadata": {},
   "outputs": [],
   "source": [
    "hemisphere_dicts"
   ]
  },
  {
   "cell_type": "code",
   "execution_count": null,
   "metadata": {},
   "outputs": [],
   "source": [
    "final_dict = {'latest news': latest_article, 'featured image url':image_path, 'Mars weather': mars_weather, 'Mars facts': mars_table, 'Hemispheres': hemisphere_dicts}"
   ]
  },
  {
   "cell_type": "code",
   "execution_count": null,
   "metadata": {},
   "outputs": [],
   "source": [
    "final_dict"
   ]
  },
  {
   "cell_type": "code",
   "execution_count": null,
   "metadata": {},
   "outputs": [],
   "source": []
  }
 ],
 "metadata": {
  "kernelspec": {
   "display_name": "Python 3",
   "language": "python",
   "name": "python3"
  },
  "language_info": {
   "codemirror_mode": {
    "name": "ipython",
    "version": 3
   },
   "file_extension": ".py",
   "mimetype": "text/x-python",
   "name": "python",
   "nbconvert_exporter": "python",
   "pygments_lexer": "ipython3",
   "version": "3.6.5"
  }
 },
 "nbformat": 4,
 "nbformat_minor": 2
}
